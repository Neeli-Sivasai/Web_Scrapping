{
 "cells": [
  {
   "cell_type": "code",
   "execution_count": 20,
   "metadata": {},
   "outputs": [],
   "source": [
    "import requests\n",
    "from bs4 import BeautifulSoup\n",
    "import csv"
   ]
  },
  {
   "cell_type": "code",
   "execution_count": 40,
   "metadata": {},
   "outputs": [
    {
     "data": {
      "text/plain": [
       "['https://imgd.aeplcdn.com/310x174/n/cw/ec/1/versions/royalenfield-classic-350-2021-redditch-single-channel-abs.jpg?q=75',\n",
       " 'https://imgd.aeplcdn.com/310x174/bw/models/royal-enfield-meteor-350-fireball20201106124644.jpg?q=75',\n",
       " 'https://imgd.aeplcdn.com/310x174/bw/models/royal-enfield-bullet-350-ks--x--efi-bs-vi20200401130113.jpg?q=75',\n",
       " 'https://imgd.aeplcdn.com/310x174/bw/models/royal-enfield-himalayan-standard--bs-vi-202120210211125102.jpg?q=75',\n",
       " 'https://imgd.aeplcdn.com/310x174/bw/models/royal-enfield-continental-gt-650-standard--bs-vi20200212182221.jpg?q=75',\n",
       " 'https://imgd.aeplcdn.com/310x174/bw/models/royal-enfield-interceptor-650-standard--bs-vi20200212180615.jpg?q=75']"
      ]
     },
     "execution_count": 40,
     "metadata": {},
     "output_type": "execute_result"
    }
   ],
   "source": [
    "url = \"https://www.bikewale.com/royalenfield-bikes/\"\n",
    "page = requests.get(url)\n",
    "\n",
    "soup = BeautifulSoup(page.content,'html.parser')\n",
    "image = soup.findAll('div', class_= \"imageWrapper\")\n",
    "\n",
    "img = []\n",
    "for i in image:\n",
    "    j = i.img['src']\n",
    "    img.append(j)\n",
    "    \n",
    "img"
   ]
  },
  {
   "cell_type": "code",
   "execution_count": 36,
   "metadata": {},
   "outputs": [
    {
     "name": "stdout",
     "output_type": "stream",
     "text": [
      "['Royal Enfield Classic 350', 'Royal Enfield Meteor 350', 'Royal Enfield Bullet 350', 'Royal Enfield Himalayan', 'Royal Enfield Continental GT 650', 'Royal Enfield Interceptor 650']\n"
     ]
    }
   ],
   "source": [
    "title = []\n",
    "for i in image:\n",
    "    j = i.img['title']\n",
    "    title.append(j)\n",
    "    \n",
    "print(title)"
   ]
  },
  {
   "cell_type": "code",
   "execution_count": 46,
   "metadata": {},
   "outputs": [
    {
     "data": {
      "text/plain": [
       "['184374', '198481', '138700', '210576', '297020', '280424']"
      ]
     },
     "execution_count": 46,
     "metadata": {},
     "output_type": "execute_result"
    }
   ],
   "source": [
    "price = []\n",
    "pri = soup.findAll('li', class_=\"front\")\n",
    "for i in pri:\n",
    "    j = i['data-price']\n",
    "    price.append(j)\n",
    "    \n",
    "price"
   ]
  },
  {
   "cell_type": "code",
   "execution_count": 64,
   "metadata": {},
   "outputs": [
    {
     "data": {
      "text/plain": [
       "['\\n349 cc, 35 kmpl, 20.2 bhp, 195 kg\\n',\n",
       " '\\n349 cc, 35 kmpl, 20.2 bhp, 191 kg\\n',\n",
       " '\\n346 cc, 37 kmpl, 19.1 bhp, 186 kg\\n',\n",
       " '\\n411 cc, 30 kmpl, 24.3 bhp, 199 kg\\n',\n",
       " '\\n648 cc, 25 kmpl, 47 bhp, 198 kg\\n',\n",
       " '\\n648 cc, 24 kmpl, 47 bhp, 202 kg\\n']"
      ]
     },
     "execution_count": 64,
     "metadata": {},
     "output_type": "execute_result"
    }
   ],
   "source": [
    "proper = soup.findAll('div', class_=\"text-xt-light-grey font14 margin-bottom15\")\n",
    "properties = []\n",
    "for i in proper:\n",
    "    j = i\n",
    "    k = j.text\n",
    "    properties.append(k)\n",
    "    \n",
    "properties"
   ]
  }
 ],
 "metadata": {
  "kernelspec": {
   "display_name": "Python 3",
   "language": "python",
   "name": "python3"
  },
  "language_info": {
   "codemirror_mode": {
    "name": "ipython",
    "version": 3
   },
   "file_extension": ".py",
   "mimetype": "text/x-python",
   "name": "python",
   "nbconvert_exporter": "python",
   "pygments_lexer": "ipython3",
   "version": "3.8.3"
  }
 },
 "nbformat": 4,
 "nbformat_minor": 4
}
